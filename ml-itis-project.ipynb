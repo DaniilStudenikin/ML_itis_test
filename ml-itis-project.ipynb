{
 "cells": [
  {
   "cell_type": "markdown",
   "id": "16967d5f",
   "metadata": {
    "_cell_guid": "b1076dfc-b9ad-4769-8c92-a6c4dae69d19",
    "_uuid": "8f2839f25d086af736a60e9eeb907d3b93b6e0e5",
    "execution": {
     "iopub.execute_input": "2022-10-23T17:29:10.535622Z",
     "iopub.status.busy": "2022-10-23T17:29:10.534212Z",
     "iopub.status.idle": "2022-10-23T17:29:10.541628Z",
     "shell.execute_reply": "2022-10-23T17:29:10.540074Z",
     "shell.execute_reply.started": "2022-10-23T17:29:10.535573Z"
    },
    "papermill": {
     "duration": 0.005739,
     "end_time": "2022-10-24T09:24:04.196793",
     "exception": false,
     "start_time": "2022-10-24T09:24:04.191054",
     "status": "completed"
    },
    "tags": []
   },
   "source": [
    "# Импортируем библиотеки"
   ]
  },
  {
   "cell_type": "code",
   "execution_count": 1,
   "id": "2a27e33a",
   "metadata": {
    "execution": {
     "iopub.execute_input": "2022-10-24T09:24:04.208274Z",
     "iopub.status.busy": "2022-10-24T09:24:04.207690Z",
     "iopub.status.idle": "2022-10-24T09:24:04.228874Z",
     "shell.execute_reply": "2022-10-24T09:24:04.227585Z"
    },
    "papermill": {
     "duration": 0.031471,
     "end_time": "2022-10-24T09:24:04.233005",
     "exception": false,
     "start_time": "2022-10-24T09:24:04.201534",
     "status": "completed"
    },
    "tags": []
   },
   "outputs": [
    {
     "name": "stdout",
     "output_type": "stream",
     "text": [
      "/kaggle/input/bostoncsv/Boston.csv\n"
     ]
    }
   ],
   "source": [
    "import numpy as np \n",
    "import pandas as pd\n",
    "\n",
    "# смотрим путь к файлу с данными\n",
    "import os\n",
    "\n",
    "for dirname, _, filenames in os.walk('/kaggle/input'):\n",
    "    for filename in filenames:\n",
    "        print(os.path.join(dirname, filename))"
   ]
  },
  {
   "cell_type": "markdown",
   "id": "9b8ba291",
   "metadata": {
    "papermill": {
     "duration": 0.004354,
     "end_time": "2022-10-24T09:24:04.242229",
     "exception": false,
     "start_time": "2022-10-24T09:24:04.237875",
     "status": "completed"
    },
    "tags": []
   },
   "source": [
    "# Загружаем набор данных"
   ]
  },
  {
   "cell_type": "code",
   "execution_count": 2,
   "id": "0e5dde86",
   "metadata": {
    "execution": {
     "iopub.execute_input": "2022-10-24T09:24:04.253662Z",
     "iopub.status.busy": "2022-10-24T09:24:04.252893Z",
     "iopub.status.idle": "2022-10-24T09:24:04.275977Z",
     "shell.execute_reply": "2022-10-24T09:24:04.274704Z"
    },
    "papermill": {
     "duration": 0.031897,
     "end_time": "2022-10-24T09:24:04.278684",
     "exception": false,
     "start_time": "2022-10-24T09:24:04.246787",
     "status": "completed"
    },
    "tags": []
   },
   "outputs": [],
   "source": [
    "filepath = '/kaggle/input/bostoncsv/Boston.csv'\n",
    "df = pd.read_csv(filepath)"
   ]
  },
  {
   "cell_type": "markdown",
   "id": "7ba16d59",
   "metadata": {
    "papermill": {
     "duration": 0.004626,
     "end_time": "2022-10-24T09:24:04.288205",
     "exception": false,
     "start_time": "2022-10-24T09:24:04.283579",
     "status": "completed"
    },
    "tags": []
   },
   "source": [
    "## Взглянем на данные"
   ]
  },
  {
   "cell_type": "code",
   "execution_count": 3,
   "id": "3dad424f",
   "metadata": {
    "execution": {
     "iopub.execute_input": "2022-10-24T09:24:04.300023Z",
     "iopub.status.busy": "2022-10-24T09:24:04.298883Z",
     "iopub.status.idle": "2022-10-24T09:24:04.351786Z",
     "shell.execute_reply": "2022-10-24T09:24:04.350680Z"
    },
    "papermill": {
     "duration": 0.061285,
     "end_time": "2022-10-24T09:24:04.354258",
     "exception": false,
     "start_time": "2022-10-24T09:24:04.292973",
     "status": "completed"
    },
    "tags": []
   },
   "outputs": [
    {
     "data": {
      "text/html": [
       "<div>\n",
       "<style scoped>\n",
       "    .dataframe tbody tr th:only-of-type {\n",
       "        vertical-align: middle;\n",
       "    }\n",
       "\n",
       "    .dataframe tbody tr th {\n",
       "        vertical-align: top;\n",
       "    }\n",
       "\n",
       "    .dataframe thead th {\n",
       "        text-align: right;\n",
       "    }\n",
       "</style>\n",
       "<table border=\"1\" class=\"dataframe\">\n",
       "  <thead>\n",
       "    <tr style=\"text-align: right;\">\n",
       "      <th></th>\n",
       "      <th>Unnamed: 0</th>\n",
       "      <th>crim</th>\n",
       "      <th>zn</th>\n",
       "      <th>indus</th>\n",
       "      <th>chas</th>\n",
       "      <th>nox</th>\n",
       "      <th>rm</th>\n",
       "      <th>age</th>\n",
       "      <th>dis</th>\n",
       "      <th>rad</th>\n",
       "      <th>tax</th>\n",
       "      <th>ptratio</th>\n",
       "      <th>black</th>\n",
       "      <th>lstat</th>\n",
       "      <th>medv</th>\n",
       "    </tr>\n",
       "  </thead>\n",
       "  <tbody>\n",
       "    <tr>\n",
       "      <th>0</th>\n",
       "      <td>1</td>\n",
       "      <td>0.00632</td>\n",
       "      <td>18.0</td>\n",
       "      <td>2.31</td>\n",
       "      <td>0</td>\n",
       "      <td>0.538</td>\n",
       "      <td>6.575</td>\n",
       "      <td>65.2</td>\n",
       "      <td>4.0900</td>\n",
       "      <td>1</td>\n",
       "      <td>296</td>\n",
       "      <td>15.3</td>\n",
       "      <td>396.90</td>\n",
       "      <td>4.98</td>\n",
       "      <td>24.0</td>\n",
       "    </tr>\n",
       "    <tr>\n",
       "      <th>1</th>\n",
       "      <td>2</td>\n",
       "      <td>0.02731</td>\n",
       "      <td>0.0</td>\n",
       "      <td>7.07</td>\n",
       "      <td>0</td>\n",
       "      <td>0.469</td>\n",
       "      <td>6.421</td>\n",
       "      <td>78.9</td>\n",
       "      <td>4.9671</td>\n",
       "      <td>2</td>\n",
       "      <td>242</td>\n",
       "      <td>17.8</td>\n",
       "      <td>396.90</td>\n",
       "      <td>9.14</td>\n",
       "      <td>21.6</td>\n",
       "    </tr>\n",
       "    <tr>\n",
       "      <th>2</th>\n",
       "      <td>3</td>\n",
       "      <td>0.02729</td>\n",
       "      <td>0.0</td>\n",
       "      <td>7.07</td>\n",
       "      <td>0</td>\n",
       "      <td>0.469</td>\n",
       "      <td>7.185</td>\n",
       "      <td>61.1</td>\n",
       "      <td>4.9671</td>\n",
       "      <td>2</td>\n",
       "      <td>242</td>\n",
       "      <td>17.8</td>\n",
       "      <td>392.83</td>\n",
       "      <td>4.03</td>\n",
       "      <td>34.7</td>\n",
       "    </tr>\n",
       "    <tr>\n",
       "      <th>3</th>\n",
       "      <td>4</td>\n",
       "      <td>0.03237</td>\n",
       "      <td>0.0</td>\n",
       "      <td>2.18</td>\n",
       "      <td>0</td>\n",
       "      <td>0.458</td>\n",
       "      <td>6.998</td>\n",
       "      <td>45.8</td>\n",
       "      <td>6.0622</td>\n",
       "      <td>3</td>\n",
       "      <td>222</td>\n",
       "      <td>18.7</td>\n",
       "      <td>394.63</td>\n",
       "      <td>2.94</td>\n",
       "      <td>33.4</td>\n",
       "    </tr>\n",
       "    <tr>\n",
       "      <th>4</th>\n",
       "      <td>5</td>\n",
       "      <td>0.06905</td>\n",
       "      <td>0.0</td>\n",
       "      <td>2.18</td>\n",
       "      <td>0</td>\n",
       "      <td>0.458</td>\n",
       "      <td>7.147</td>\n",
       "      <td>54.2</td>\n",
       "      <td>6.0622</td>\n",
       "      <td>3</td>\n",
       "      <td>222</td>\n",
       "      <td>18.7</td>\n",
       "      <td>396.90</td>\n",
       "      <td>5.33</td>\n",
       "      <td>36.2</td>\n",
       "    </tr>\n",
       "    <tr>\n",
       "      <th>...</th>\n",
       "      <td>...</td>\n",
       "      <td>...</td>\n",
       "      <td>...</td>\n",
       "      <td>...</td>\n",
       "      <td>...</td>\n",
       "      <td>...</td>\n",
       "      <td>...</td>\n",
       "      <td>...</td>\n",
       "      <td>...</td>\n",
       "      <td>...</td>\n",
       "      <td>...</td>\n",
       "      <td>...</td>\n",
       "      <td>...</td>\n",
       "      <td>...</td>\n",
       "      <td>...</td>\n",
       "    </tr>\n",
       "    <tr>\n",
       "      <th>501</th>\n",
       "      <td>502</td>\n",
       "      <td>0.06263</td>\n",
       "      <td>0.0</td>\n",
       "      <td>11.93</td>\n",
       "      <td>0</td>\n",
       "      <td>0.573</td>\n",
       "      <td>6.593</td>\n",
       "      <td>69.1</td>\n",
       "      <td>2.4786</td>\n",
       "      <td>1</td>\n",
       "      <td>273</td>\n",
       "      <td>21.0</td>\n",
       "      <td>391.99</td>\n",
       "      <td>9.67</td>\n",
       "      <td>22.4</td>\n",
       "    </tr>\n",
       "    <tr>\n",
       "      <th>502</th>\n",
       "      <td>503</td>\n",
       "      <td>0.04527</td>\n",
       "      <td>0.0</td>\n",
       "      <td>11.93</td>\n",
       "      <td>0</td>\n",
       "      <td>0.573</td>\n",
       "      <td>6.120</td>\n",
       "      <td>76.7</td>\n",
       "      <td>2.2875</td>\n",
       "      <td>1</td>\n",
       "      <td>273</td>\n",
       "      <td>21.0</td>\n",
       "      <td>396.90</td>\n",
       "      <td>9.08</td>\n",
       "      <td>20.6</td>\n",
       "    </tr>\n",
       "    <tr>\n",
       "      <th>503</th>\n",
       "      <td>504</td>\n",
       "      <td>0.06076</td>\n",
       "      <td>0.0</td>\n",
       "      <td>11.93</td>\n",
       "      <td>0</td>\n",
       "      <td>0.573</td>\n",
       "      <td>6.976</td>\n",
       "      <td>91.0</td>\n",
       "      <td>2.1675</td>\n",
       "      <td>1</td>\n",
       "      <td>273</td>\n",
       "      <td>21.0</td>\n",
       "      <td>396.90</td>\n",
       "      <td>5.64</td>\n",
       "      <td>23.9</td>\n",
       "    </tr>\n",
       "    <tr>\n",
       "      <th>504</th>\n",
       "      <td>505</td>\n",
       "      <td>0.10959</td>\n",
       "      <td>0.0</td>\n",
       "      <td>11.93</td>\n",
       "      <td>0</td>\n",
       "      <td>0.573</td>\n",
       "      <td>6.794</td>\n",
       "      <td>89.3</td>\n",
       "      <td>2.3889</td>\n",
       "      <td>1</td>\n",
       "      <td>273</td>\n",
       "      <td>21.0</td>\n",
       "      <td>393.45</td>\n",
       "      <td>6.48</td>\n",
       "      <td>22.0</td>\n",
       "    </tr>\n",
       "    <tr>\n",
       "      <th>505</th>\n",
       "      <td>506</td>\n",
       "      <td>0.04741</td>\n",
       "      <td>0.0</td>\n",
       "      <td>11.93</td>\n",
       "      <td>0</td>\n",
       "      <td>0.573</td>\n",
       "      <td>6.030</td>\n",
       "      <td>80.8</td>\n",
       "      <td>2.5050</td>\n",
       "      <td>1</td>\n",
       "      <td>273</td>\n",
       "      <td>21.0</td>\n",
       "      <td>396.90</td>\n",
       "      <td>7.88</td>\n",
       "      <td>11.9</td>\n",
       "    </tr>\n",
       "  </tbody>\n",
       "</table>\n",
       "<p>506 rows × 15 columns</p>\n",
       "</div>"
      ],
      "text/plain": [
       "     Unnamed: 0     crim    zn  indus  chas    nox     rm   age     dis  rad  \\\n",
       "0             1  0.00632  18.0   2.31     0  0.538  6.575  65.2  4.0900    1   \n",
       "1             2  0.02731   0.0   7.07     0  0.469  6.421  78.9  4.9671    2   \n",
       "2             3  0.02729   0.0   7.07     0  0.469  7.185  61.1  4.9671    2   \n",
       "3             4  0.03237   0.0   2.18     0  0.458  6.998  45.8  6.0622    3   \n",
       "4             5  0.06905   0.0   2.18     0  0.458  7.147  54.2  6.0622    3   \n",
       "..          ...      ...   ...    ...   ...    ...    ...   ...     ...  ...   \n",
       "501         502  0.06263   0.0  11.93     0  0.573  6.593  69.1  2.4786    1   \n",
       "502         503  0.04527   0.0  11.93     0  0.573  6.120  76.7  2.2875    1   \n",
       "503         504  0.06076   0.0  11.93     0  0.573  6.976  91.0  2.1675    1   \n",
       "504         505  0.10959   0.0  11.93     0  0.573  6.794  89.3  2.3889    1   \n",
       "505         506  0.04741   0.0  11.93     0  0.573  6.030  80.8  2.5050    1   \n",
       "\n",
       "     tax  ptratio   black  lstat  medv  \n",
       "0    296     15.3  396.90   4.98  24.0  \n",
       "1    242     17.8  396.90   9.14  21.6  \n",
       "2    242     17.8  392.83   4.03  34.7  \n",
       "3    222     18.7  394.63   2.94  33.4  \n",
       "4    222     18.7  396.90   5.33  36.2  \n",
       "..   ...      ...     ...    ...   ...  \n",
       "501  273     21.0  391.99   9.67  22.4  \n",
       "502  273     21.0  396.90   9.08  20.6  \n",
       "503  273     21.0  396.90   5.64  23.9  \n",
       "504  273     21.0  393.45   6.48  22.0  \n",
       "505  273     21.0  396.90   7.88  11.9  \n",
       "\n",
       "[506 rows x 15 columns]"
      ]
     },
     "execution_count": 3,
     "metadata": {},
     "output_type": "execute_result"
    }
   ],
   "source": [
    "df"
   ]
  },
  {
   "cell_type": "markdown",
   "id": "fb103a51",
   "metadata": {
    "papermill": {
     "duration": 0.004942,
     "end_time": "2022-10-24T09:24:04.364513",
     "exception": false,
     "start_time": "2022-10-24T09:24:04.359571",
     "status": "completed"
    },
    "tags": []
   },
   "source": [
    "### Названия колонок в таблице\n",
    "1. crim - Уровень преступности на душу населения по городам\n",
    "2. zn - Доля жилых земель, зонированных под участки площадью более 25 000 кв. Футов.\n",
    "3. indus - Доля неторговых площадей на город.\n",
    "4. chas -  фиктивная переменная реки Чарльз (= 1, если участок граничит с рекой; 0 в противном случае)\n",
    "5. nox - концентрация оксида азота (частей на 10 миллионов)\n",
    "6. rm - Среднее количество комнат в жилом доме\n",
    "7. age - Доля жилых единиц, построенных до 1940 г.\n",
    "8. dis - Взвешенное расстояние до пяти центров занятости Бостона\n",
    "9. rad - Индекс доступности радиальных магистралей\n",
    "10. tax - Полная ставка налога на имущество за 10 000 долларов США.\n",
    "11. ptratio - Соотношение учеников и учителей по городам\n",
    "12. black - 1000(Bk — 0,63)², где Bk — доля лиц афроамериканского происхождения по городам.\n",
    "13. lstat - процент населения с более низким статусом.\n",
    "14. medv - цена в 1000$"
   ]
  },
  {
   "cell_type": "code",
   "execution_count": 4,
   "id": "d478ae91",
   "metadata": {
    "execution": {
     "iopub.execute_input": "2022-10-24T09:24:04.376764Z",
     "iopub.status.busy": "2022-10-24T09:24:04.376308Z",
     "iopub.status.idle": "2022-10-24T09:24:04.385637Z",
     "shell.execute_reply": "2022-10-24T09:24:04.384391Z"
    },
    "papermill": {
     "duration": 0.018551,
     "end_time": "2022-10-24T09:24:04.388316",
     "exception": false,
     "start_time": "2022-10-24T09:24:04.369765",
     "status": "completed"
    },
    "tags": []
   },
   "outputs": [],
   "source": [
    "x = pd.DataFrame(df['rm'])"
   ]
  },
  {
   "cell_type": "code",
   "execution_count": 5,
   "id": "3353c7f7",
   "metadata": {
    "execution": {
     "iopub.execute_input": "2022-10-24T09:24:04.401411Z",
     "iopub.status.busy": "2022-10-24T09:24:04.400543Z",
     "iopub.status.idle": "2022-10-24T09:24:04.406414Z",
     "shell.execute_reply": "2022-10-24T09:24:04.405420Z"
    },
    "papermill": {
     "duration": 0.014644,
     "end_time": "2022-10-24T09:24:04.408552",
     "exception": false,
     "start_time": "2022-10-24T09:24:04.393908",
     "status": "completed"
    },
    "tags": []
   },
   "outputs": [],
   "source": [
    "y = pd.DataFrame(df['medv'])"
   ]
  },
  {
   "cell_type": "code",
   "execution_count": 6,
   "id": "be4ba229",
   "metadata": {
    "execution": {
     "iopub.execute_input": "2022-10-24T09:24:04.420926Z",
     "iopub.status.busy": "2022-10-24T09:24:04.420473Z",
     "iopub.status.idle": "2022-10-24T09:24:05.653190Z",
     "shell.execute_reply": "2022-10-24T09:24:05.651716Z"
    },
    "papermill": {
     "duration": 1.242205,
     "end_time": "2022-10-24T09:24:05.655964",
     "exception": false,
     "start_time": "2022-10-24T09:24:04.413759",
     "status": "completed"
    },
    "tags": []
   },
   "outputs": [],
   "source": [
    "from sklearn.model_selection import train_test_split"
   ]
  },
  {
   "cell_type": "code",
   "execution_count": 7,
   "id": "211c3ee1",
   "metadata": {
    "execution": {
     "iopub.execute_input": "2022-10-24T09:24:05.668663Z",
     "iopub.status.busy": "2022-10-24T09:24:05.668235Z",
     "iopub.status.idle": "2022-10-24T09:24:05.675742Z",
     "shell.execute_reply": "2022-10-24T09:24:05.674299Z"
    },
    "papermill": {
     "duration": 0.016912,
     "end_time": "2022-10-24T09:24:05.678300",
     "exception": false,
     "start_time": "2022-10-24T09:24:05.661388",
     "status": "completed"
    },
    "tags": []
   },
   "outputs": [],
   "source": [
    "x_train, x_test, y_train, y_test = train_test_split(x, y, test_size = 0.30)"
   ]
  },
  {
   "cell_type": "code",
   "execution_count": 8,
   "id": "22078c25",
   "metadata": {
    "execution": {
     "iopub.execute_input": "2022-10-24T09:24:05.690838Z",
     "iopub.status.busy": "2022-10-24T09:24:05.690387Z",
     "iopub.status.idle": "2022-10-24T09:24:05.777592Z",
     "shell.execute_reply": "2022-10-24T09:24:05.776232Z"
    },
    "papermill": {
     "duration": 0.096594,
     "end_time": "2022-10-24T09:24:05.780386",
     "exception": false,
     "start_time": "2022-10-24T09:24:05.683792",
     "status": "completed"
    },
    "tags": []
   },
   "outputs": [],
   "source": [
    "from sklearn.linear_model import LinearRegression"
   ]
  },
  {
   "cell_type": "code",
   "execution_count": 9,
   "id": "2a3ac0ea",
   "metadata": {
    "execution": {
     "iopub.execute_input": "2022-10-24T09:24:05.792237Z",
     "iopub.status.busy": "2022-10-24T09:24:05.791808Z",
     "iopub.status.idle": "2022-10-24T09:24:05.797832Z",
     "shell.execute_reply": "2022-10-24T09:24:05.795810Z"
    },
    "papermill": {
     "duration": 0.015799,
     "end_time": "2022-10-24T09:24:05.801328",
     "exception": false,
     "start_time": "2022-10-24T09:24:05.785529",
     "status": "completed"
    },
    "tags": []
   },
   "outputs": [],
   "source": [
    "model = LinearRegression()"
   ]
  },
  {
   "cell_type": "code",
   "execution_count": 10,
   "id": "b23206e7",
   "metadata": {
    "execution": {
     "iopub.execute_input": "2022-10-24T09:24:05.813617Z",
     "iopub.status.busy": "2022-10-24T09:24:05.813138Z",
     "iopub.status.idle": "2022-10-24T09:24:05.839015Z",
     "shell.execute_reply": "2022-10-24T09:24:05.838153Z"
    },
    "papermill": {
     "duration": 0.034806,
     "end_time": "2022-10-24T09:24:05.841321",
     "exception": false,
     "start_time": "2022-10-24T09:24:05.806515",
     "status": "completed"
    },
    "tags": []
   },
   "outputs": [
    {
     "data": {
      "text/plain": [
       "LinearRegression()"
      ]
     },
     "execution_count": 10,
     "metadata": {},
     "output_type": "execute_result"
    }
   ],
   "source": [
    "model.fit(x_train, y_train)"
   ]
  },
  {
   "cell_type": "code",
   "execution_count": 11,
   "id": "40fa5451",
   "metadata": {
    "execution": {
     "iopub.execute_input": "2022-10-24T09:24:05.854842Z",
     "iopub.status.busy": "2022-10-24T09:24:05.853847Z",
     "iopub.status.idle": "2022-10-24T09:24:05.867224Z",
     "shell.execute_reply": "2022-10-24T09:24:05.866111Z"
    },
    "papermill": {
     "duration": 0.022895,
     "end_time": "2022-10-24T09:24:05.869333",
     "exception": false,
     "start_time": "2022-10-24T09:24:05.846438",
     "status": "completed"
    },
    "tags": []
   },
   "outputs": [
    {
     "data": {
      "text/plain": [
       "array([[25.57284609],\n",
       "       [29.34018826],\n",
       "       [13.27411987],\n",
       "       [27.50223735],\n",
       "       [19.91268882],\n",
       "       [32.58632046],\n",
       "       [18.96170925],\n",
       "       [35.77758845],\n",
       "       [23.45143012],\n",
       "       [19.66579989],\n",
       "       [24.43898583],\n",
       "       [20.0132732 ],\n",
       "       [19.38233483],\n",
       "       [21.16542153],\n",
       "       [15.24923129],\n",
       "       [21.33001415],\n",
       "       [18.85198083],\n",
       "       [15.39553584],\n",
       "       [30.94039427],\n",
       "       [19.30003852],\n",
       "       [17.01402992],\n",
       "       [30.0168468 ],\n",
       "       [27.675974  ],\n",
       "       [23.62516677],\n",
       "       [15.9167458 ],\n",
       "       [27.44737314],\n",
       "       [19.34575869],\n",
       "       [25.80144695],\n",
       "       [25.06078017],\n",
       "       [16.96830975],\n",
       "       [18.27590667],\n",
       "       [18.43135525],\n",
       "       [26.28608078],\n",
       "       [18.32162684],\n",
       "       [19.24517431],\n",
       "       [18.12045808],\n",
       "       [21.16542153],\n",
       "       [23.27769347],\n",
       "       [15.69728898],\n",
       "       [16.01733018],\n",
       "       [25.29852506],\n",
       "       [17.97415353],\n",
       "       [20.6259235 ],\n",
       "       [25.64599837],\n",
       "       [14.64572502],\n",
       "       [32.54974432],\n",
       "       [29.73338173],\n",
       "       [32.62289659],\n",
       "       [ 7.31220946],\n",
       "       [19.04400555],\n",
       "       [24.68587476],\n",
       "       [21.22942977],\n",
       "       [28.5538013 ],\n",
       "       [32.37600767],\n",
       "       [20.79966015],\n",
       "       [15.61499267],\n",
       "       [18.13874615],\n",
       "       [18.76968452],\n",
       "       [29.00185898],\n",
       "       [17.69068847],\n",
       "       [23.78061536],\n",
       "       [13.63988124],\n",
       "       [20.6259235 ],\n",
       "       [30.98611444],\n",
       "       [23.68003098],\n",
       "       [20.29673826],\n",
       "       [33.08009831],\n",
       "       [31.28786758],\n",
       "       [35.10092991],\n",
       "       [17.17862254],\n",
       "       [36.38109472],\n",
       "       [21.33001415],\n",
       "       [18.90684504],\n",
       "       [23.45143012],\n",
       "       [25.88374326],\n",
       "       [27.60282172],\n",
       "       [23.97264008],\n",
       "       [19.27260641],\n",
       "       [20.39732264],\n",
       "       [17.65411233],\n",
       "       [21.54947097],\n",
       "       [21.02826101],\n",
       "       [28.91041864],\n",
       "       [ 7.09275263],\n",
       "       [30.47404852],\n",
       "       [12.19512381],\n",
       "       [14.06050682],\n",
       "       [18.51365156],\n",
       "       [21.73235166],\n",
       "       [10.22001239],\n",
       "       [26.28608078],\n",
       "       [21.2111417 ],\n",
       "       [23.82633553],\n",
       "       [33.53730003],\n",
       "       [27.09989983],\n",
       "       [23.5794466 ],\n",
       "       [26.89873108],\n",
       "       [21.11970136],\n",
       "       [27.63025383],\n",
       "       [31.8273656 ],\n",
       "       [21.70491956],\n",
       "       [ 9.81767488],\n",
       "       [19.41891096],\n",
       "       [20.81794822],\n",
       "       [34.36026312],\n",
       "       [23.06738068],\n",
       "       [28.38920868],\n",
       "       [16.22764297],\n",
       "       [21.74149569],\n",
       "       [21.61347921],\n",
       "       [22.25356162],\n",
       "       [38.2373337 ],\n",
       "       [24.03664832],\n",
       "       [21.30258204],\n",
       "       [18.34905894],\n",
       "       [19.67494393],\n",
       "       [ 9.60736209],\n",
       "       [18.30333877],\n",
       "       [14.1885233 ],\n",
       "       [23.85376763],\n",
       "       [17.92843336],\n",
       "       [19.05314959],\n",
       "       [25.03334807],\n",
       "       [23.04909261],\n",
       "       [30.63864114],\n",
       "       [26.77985863],\n",
       "       [23.11310085],\n",
       "       [22.13468917],\n",
       "       [27.40165297],\n",
       "       [18.32162684],\n",
       "       [16.09962649],\n",
       "       [20.50705105],\n",
       "       [18.96170925],\n",
       "       [27.42908507],\n",
       "       [44.55586145],\n",
       "       [23.43314205],\n",
       "       [27.0633237 ],\n",
       "       [21.56775904],\n",
       "       [19.02571749],\n",
       "       [19.76638427],\n",
       "       [21.42145449],\n",
       "       [ 2.61217579],\n",
       "       [16.26421911],\n",
       "       [22.18955338],\n",
       "       [11.34472862],\n",
       "       [14.27996365],\n",
       "       [15.97161001],\n",
       "       [19.46463114],\n",
       "       [18.61423594],\n",
       "       [18.5227956 ],\n",
       "       [24.63101055],\n",
       "       [19.19945414]])"
      ]
     },
     "execution_count": 11,
     "metadata": {},
     "output_type": "execute_result"
    }
   ],
   "source": [
    "y_pred = model.predict(x_test)\n",
    "y_pred"
   ]
  },
  {
   "cell_type": "code",
   "execution_count": 12,
   "id": "eb8ac365",
   "metadata": {
    "execution": {
     "iopub.execute_input": "2022-10-24T09:24:05.882546Z",
     "iopub.status.busy": "2022-10-24T09:24:05.881853Z",
     "iopub.status.idle": "2022-10-24T09:24:05.889953Z",
     "shell.execute_reply": "2022-10-24T09:24:05.888238Z"
    },
    "papermill": {
     "duration": 0.017479,
     "end_time": "2022-10-24T09:24:05.892294",
     "exception": false,
     "start_time": "2022-10-24T09:24:05.874815",
     "status": "completed"
    },
    "tags": []
   },
   "outputs": [
    {
     "name": "stdout",
     "output_type": "stream",
     "text": [
      "checking y_test:      medv\n",
      "376  13.9\n",
      "482  25.0\n",
      "417  10.4\n",
      "178  29.9\n",
      "47   16.6 \n",
      " checking y_pred: [[25.57284609]\n",
      " [29.34018826]\n",
      " [13.27411987]\n",
      " [27.50223735]\n",
      " [19.91268882]]\n"
     ]
    }
   ],
   "source": [
    "from sklearn import metrics\n",
    "print(f'checking y_test: {y_test.head()} \\n checking y_pred: {y_pred[:5]}')"
   ]
  },
  {
   "cell_type": "code",
   "execution_count": 13,
   "id": "bf2aa0ce",
   "metadata": {
    "execution": {
     "iopub.execute_input": "2022-10-24T09:24:05.905631Z",
     "iopub.status.busy": "2022-10-24T09:24:05.904617Z",
     "iopub.status.idle": "2022-10-24T09:24:05.912943Z",
     "shell.execute_reply": "2022-10-24T09:24:05.911410Z"
    },
    "papermill": {
     "duration": 0.017618,
     "end_time": "2022-10-24T09:24:05.915396",
     "exception": false,
     "start_time": "2022-10-24T09:24:05.897778",
     "status": "completed"
    },
    "tags": []
   },
   "outputs": [
    {
     "name": "stdout",
     "output_type": "stream",
     "text": [
      "rmse 6.711895153670154\n"
     ]
    }
   ],
   "source": [
    "print('rmse', np.sqrt(metrics.mean_squared_error(y_test, y_pred)))"
   ]
  }
 ],
 "metadata": {
  "kernelspec": {
   "display_name": "Python 3",
   "language": "python",
   "name": "python3"
  },
  "language_info": {
   "codemirror_mode": {
    "name": "ipython",
    "version": 3
   },
   "file_extension": ".py",
   "mimetype": "text/x-python",
   "name": "python",
   "nbconvert_exporter": "python",
   "pygments_lexer": "ipython3",
   "version": "3.7.12"
  },
  "papermill": {
   "default_parameters": {},
   "duration": 11.791355,
   "end_time": "2022-10-24T09:24:06.744339",
   "environment_variables": {},
   "exception": null,
   "input_path": "__notebook__.ipynb",
   "output_path": "__notebook__.ipynb",
   "parameters": {},
   "start_time": "2022-10-24T09:23:54.952984",
   "version": "2.3.4"
  }
 },
 "nbformat": 4,
 "nbformat_minor": 5
}
